{
  "nbformat": 4,
  "nbformat_minor": 0,
  "metadata": {
    "colab": {
      "name": "tutorial.ipynb",
      "provenance": [],
      "collapsed_sections": []
    },
    "kernelspec": {
      "display_name": "Python 3",
      "language": "python",
      "name": "python3"
    },
    "language_info": {
      "codemirror_mode": {
        "name": "ipython",
        "version": 3
      },
      "file_extension": ".py",
      "mimetype": "text/x-python",
      "name": "python",
      "nbconvert_exporter": "python",
      "pygments_lexer": "ipython3",
      "version": "3.7.3"
    },
    "toc": {
      "base_numbering": 1,
      "nav_menu": {},
      "number_sections": true,
      "sideBar": true,
      "skip_h1_title": false,
      "title_cell": "Table of Contents",
      "title_sidebar": "Contents",
      "toc_cell": false,
      "toc_position": {},
      "toc_section_display": true,
      "toc_window_display": false
    }
  },
  "cells": [
    {
      "cell_type": "markdown",
      "metadata": {
        "id": "FNUmJBShfIT9"
      },
      "source": [
        "Выборка разбивается на две части для обучения и для тестирования модели. Данные на обучение и тест обычно делят случайно и равномерно: нужно чтобы и обучающая, и тестовая выборка были похожие на те данные, на которых модель будет использоваться в боевых условиях. \n",
        "\n",
        "Более сложные разбиения могут использоваться если в данных есть временная компонента - например, мы строим скоринговую модель и для теста откладываем данные за последние несколько месяцев, а всю остальную выборку используем для обучения. Такое разбиение имитирует реальную работу модели: мы можем обучаться только на данных прошлых кредитов, а работать модель уже будет на данных из будущего. \n",
        "\n",
        "Доли общей выборки для обучения и тестирования обычно 70% и 30% соотвественно. Любые разумные числа подходят, если для обучения используется достаточно много данных (обычно больше 50%), но и для тестирования что-то остается (10% и больше).\n"
      ]
    },
    {
      "cell_type": "markdown",
      "metadata": {
        "id": "qo4FY08h6Y_N"
      },
      "source": [
        "![alt text](https://drive.google.com/uc?id=1VEzFiadFptULOKgb8yxRrNEXQSYMDa6P)"
      ]
    },
    {
      "cell_type": "markdown",
      "metadata": {
        "id": "OFP_i1F1Lqay"
      },
      "source": [
        "## План анализа данных (data mining):\n",
        "\n",
        "  1. Загрузить данные для обучения\n",
        "  2. Обработать данные перед обучением модели\n",
        "  3. Обучить модель на обучающей выборке\n",
        "  4. Загрузить и предобработать данные для тестирования\n",
        "  5. Провалидировать модель на тестовой выборке"
      ]
    },
    {
      "cell_type": "markdown",
      "metadata": {
        "id": "zWwA9mz7fuTq"
      },
      "source": [
        "![img1.jpg](https://drive.google.com/uc?id=1rz_ZP6fptNz9s4zVy5e9Vjhfhy_rw3v_)"
      ]
    },
    {
      "cell_type": "markdown",
      "metadata": {
        "id": "mKUYn0nHLqaz"
      },
      "source": [
        "## 1. Загрузить данные для обучения"
      ]
    },
    {
      "cell_type": "markdown",
      "metadata": {
        "id": "Bqqurd70Lqaz"
      },
      "source": [
        "**Шаг 1.1. Загружаем библиотеки** "
      ]
    },
    {
      "cell_type": "markdown",
      "metadata": {
        "id": "rY5oSQ0-Lqa0"
      },
      "source": [
        "Библиотека **warnings** отвечает за то, какие предупреждения (warnings) о работе будут выводиться пользователю. "
      ]
    },
    {
      "cell_type": "markdown",
      "metadata": {
        "id": "glmRSLB9tybF"
      },
      "source": [
        "\n",
        "\n",
        "```\n",
        "import warnings\n",
        "warnings.simplefilter(action='ignore', category=FutureWarning)\n",
        "```\n",
        "\n"
      ]
    },
    {
      "cell_type": "markdown",
      "metadata": {
        "id": "28Bf-HdaLqa4"
      },
      "source": [
        "Для корректной работы с данными в python требуется загрузить специальную библиотеку\n",
        "**pandas**, программную библиотеку на языке python для обработки и анализа данных. "
      ]
    },
    {
      "cell_type": "markdown",
      "metadata": {
        "id": "TGCZqlgHt27g"
      },
      "source": [
        "\n",
        "\n",
        "```\n",
        "import pandas as pd # загружаем библиотеку и для простоты обращения в коде называем её сокращенно pd\n",
        "```\n",
        "\n"
      ]
    },
    {
      "cell_type": "markdown",
      "metadata": {
        "id": "NT0TLhqxLqa7"
      },
      "source": [
        "Для корректной работы с графиками в python требуется загрузить специальную библиотеку\n",
        "**matplotlib**, программную библиотеку на языке python для визуализации данных двумерной и трехмерной графикой.\n",
        "\n",
        "Графики используются для облегчения интерпретации полученных результатов, а также в качестве иллюстраций в презентациях и отчетах. \n",
        "\n",
        "Оснвные методы для построения:\n",
        "* plot() - графики\n",
        "* semilogy() - график логарифметический\n",
        "* hist() - гистограммы"
      ]
    },
    {
      "cell_type": "markdown",
      "metadata": {
        "id": "vG42hLYot8AH"
      },
      "source": [
        "\n",
        "\n",
        "```\n",
        "import matplotlib.pyplot as plt # загружаем библиотеку и для простоты обращения в коде называем её сокращенно plt\n",
        "# указываем, чтобы картинки отображались прямо в ноутбуке \n",
        "%matplotlib inline \n",
        "```\n",
        "\n"
      ]
    },
    {
      "cell_type": "markdown",
      "metadata": {
        "id": "JVr8btg7Qk3x"
      },
      "source": [
        "**Шаг 1.2. Загрузим данные**"
      ]
    },
    {
      "cell_type": "markdown",
      "metadata": {
        "id": "5pzU4iRyQN9H"
      },
      "source": [
        "Для решения задачи мы будем использовать данные. Они состоят из двух частей: часть для обучения и часть для тестирования модели. Загружаем данные с помощие команды !wget. Для того, чтобы игнорировать сообщения в процессе загрузки используем магическую команду %%capture в первой строке."
      ]
    },
    {
      "cell_type": "markdown",
      "metadata": {
        "id": "4Ty-xc2HgQ1r"
      },
      "source": [
        "\n",
        "\n",
        "```\n",
        "#%%capture\n",
        "#!wget ссылка\n",
        "\n",
        "from google.colab import files\n",
        "uploaded = files.upload()\n",
        "for fn in uploaded.keys():\n",
        "   print('User uploaded file «{name}» with length {length} bytes'.format(name=fn, length=len(uploaded[fn])))\n",
        "```\n",
        "\n"
      ]
    },
    {
      "cell_type": "markdown",
      "metadata": {
        "id": "yJpKlVRBLqa-"
      },
      "source": [
        "Для данных в формате xlsx (Excel) будем использовать специальную функцию\n",
        "из библиотеки pandas для загрузки таких данных **read_excel**.\n",
        "\n",
        "В функции передаем один атрибут: название таблицы с данными."
      ]
    },
    {
      "cell_type": "markdown",
      "metadata": {
        "id": "-Q09MqB0gbCD"
      },
      "source": [
        "\n",
        "\n",
        "```\n",
        "training_data = pd.read_excel('Название_таблицы_с_данными.xlsx') \n",
        "```\n",
        "\n"
      ]
    },
    {
      "cell_type": "markdown",
      "metadata": {
        "id": "jK9Xd2a5LqbB"
      },
      "source": [
        "*Что важно посмотреть после того, как мы загрузили данные?*\n",
        "- проверить, что данные действительно загрузились\n",
        "- посмотреть на данные, чтобы удостовериться, что они правильные: колонки имеют те же названия, что и в таблице и т.д.\n",
        "\n",
        "Для того чтобы это сделать, нужно вызвать от переменной *training_data* метод **head()**, который выводит первые 5 строк таблицы. \n",
        "\n",
        "Для вызова метода объекта необходимо сначала написать *имя объекта*, затем поставить *точку*, затем уже написать *название метода*. Обратите внимание, что в конце обязательно ставить скобочки, потому что метод - это функция и в ней есть аргументы, просто в данном случае мы их не передаем, поэтому оставляем поле пустым"
      ]
    },
    {
      "cell_type": "markdown",
      "metadata": {
        "id": "4GjMRSC0g_cm"
      },
      "source": [
        "\n",
        "\n",
        "```\n",
        "training_data.head()\n",
        "```\n",
        "\n"
      ]
    },
    {
      "cell_type": "markdown",
      "metadata": {
        "id": "wkuIAKG4LqbF"
      },
      "source": [
        "**Шаг 1.3. Посмотрим на размеры загруженной таблицы**, у которой мы видели только первые 5 строк.\n",
        "\n",
        "Для этого вызываем поле **shape** у нашей переменной *training_data*. Поле вызывается также как метод, но в конце скобки не ставятся, так как для поля не предусмотрена передача аргументов.  "
      ]
    },
    {
      "cell_type": "markdown",
      "metadata": {
        "id": "upeBSHGZhI1p"
      },
      "source": [
        "\n",
        "\n",
        "```\n",
        "training_data.shape\n",
        "```\n",
        "\n"
      ]
    },
    {
      "cell_type": "markdown",
      "metadata": {
        "id": "8oiD7YJjLqbI"
      },
      "source": [
        "*Что означает первое и второе число?*\n",
        "(a,b)\n",
        "\n",
        "Итак, таблица содержит a строк (объектов) и b столбцов (признаков), включая выходной (целевой) признак.\n",
        "\n",
        "Таблицу проверили, теперь можно приступать к обработке данных."
      ]
    },
    {
      "cell_type": "markdown",
      "metadata": {
        "id": "Mz4rsFhALqbJ"
      },
      "source": [
        "# 2. Обработать данные перед обучением модели"
      ]
    },
    {
      "cell_type": "markdown",
      "metadata": {
        "id": "0Z2QQXxSLqbK"
      },
      "source": [
        "**Шаг 2.1. Проверяем данные на наличие пропусков и типов переменных**\n",
        "\n",
        "Начнем с проверки общей информации о данных.\n",
        "Для того чтобы это сделать, нужно обратиться вызвать у переменной *training_data* метод **info()**.\n",
        "\n",
        "Напомним, что в конце необходимо поставить скобочки."
      ]
    },
    {
      "cell_type": "markdown",
      "metadata": {
        "id": "dXoes7w0io_6"
      },
      "source": [
        "\n",
        "\n",
        "```\n",
        "training_data.info()\n",
        "```\n",
        "\n"
      ]
    },
    {
      "cell_type": "markdown",
      "metadata": {
        "id": "va78W9uuLqbN"
      },
      "source": [
        "Анализируем результата выполнения команды:\n",
        "\n",
        "Цифры в каждой строчке обозначают количество заполненных (*non-null*) значений.\n",
        "\n",
        " Если эти цифры в каждой строчке совпадают с числом строк, то в данных нет пропусков и можно двигаться дальше. "
      ]
    },
    {
      "cell_type": "markdown",
      "metadata": {
        "id": "oPiLacxmLqbO"
      },
      "source": [
        "**Шаг 2.2. Работаем с целевой переменной**\n",
        "\n",
        "> *Кто такая эта переменная целевая?*\n",
        "\n",
        "Целевая переменная зависит от условий задачи. К примеру если мы должны прогнозировать успеваемость студента, то целевой переменной будет оценка.\n"
      ]
    },
    {
      "cell_type": "markdown",
      "metadata": {
        "id": "0Pvqd7Y4jLfy"
      },
      "source": [
        "\n",
        "\n",
        "```\n",
        "target_variable_name = 'Целевая_переменная'\n",
        "```\n",
        "\n"
      ]
    },
    {
      "cell_type": "markdown",
      "metadata": {
        "id": "gOM9Kj8pLqbS"
      },
      "source": [
        "Нам нужно выделить в отдельную переменную *training_values* столбец из нашей таблицы, который соответствует определенной выше целевой переменной. Для этого мы у таблицы *training_data* в квадратных скобках указываем имя нужного столбца. В нашем случае это имя записано в переменной *target_variable_name*. "
      ]
    },
    {
      "cell_type": "markdown",
      "metadata": {
        "id": "m8B2xV8djV_l"
      },
      "source": [
        "\n",
        "\n",
        "```\n",
        "training_values = training_data[target_variable_name]\n",
        "training_values\n",
        "```\n",
        "\n"
      ]
    },
    {
      "cell_type": "markdown",
      "metadata": {
        "id": "INrEpAUkLqbV"
      },
      "source": [
        "Отделим входные переменные от выходной (целевой), чтобы можно было построить модель предсказания целевой переменной по входным. \n",
        "Для это нужно у переменной *training_data* вызвать метод **drop()**. Результат мы записываем в новую переменную *training_points*. После выполнения запроса *training_points* будет содержать исходную таблицу без целевого столбца. \n",
        "\n",
        "Обратите внимание, что в данном случае мы передаем два аргумента:\n",
        "    1. target_variable_name - название столбца цены, который мы ранее записали в эту переменную и теперь хотим удалить из training_data\n",
        "    2. axis=1 - означает, что мы удаляем столбец, а в случае axis=0 - означает, что мы удаляем строку"
      ]
    },
    {
      "cell_type": "markdown",
      "metadata": {
        "id": "Va0pjb0TjpPm"
      },
      "source": [
        "training_points = training_data.drop(target_variable_name, axis=1)"
      ]
    },
    {
      "cell_type": "markdown",
      "metadata": {
        "id": "civG1etNLqbY"
      },
      "source": [
        "Можно посмотреть результаты этих действий, вызвав метод **head()** и поле **shape**, которыми мы пользовались ранее, но сейчас нужно вызывать их от новой переменной *training_points*."
      ]
    },
    {
      "cell_type": "markdown",
      "metadata": {
        "id": "bti2NCXnjsvM"
      },
      "source": [
        "\n",
        "\n",
        "```\n",
        "training_points.head()\n",
        "\n",
        "training_points.shape\n",
        "```\n",
        "\n"
      ]
    },
    {
      "cell_type": "markdown",
      "metadata": {
        "id": "kx5oc0ScLqbf"
      },
      "source": [
        "Видно, что столбца действительно нет, а количество строк не изменилось. Данные в 5 первых строках такие же, как были ранее."
      ]
    },
    {
      "cell_type": "markdown",
      "metadata": {
        "id": "nKg7bxEGwgdN"
      },
      "source": [
        "**Шаг 2.3 Нормализуем признаки**"
      ]
    },
    {
      "cell_type": "markdown",
      "metadata": {
        "id": "5nuhXtCexCsi"
      },
      "source": [
        "Казалось бы, чем больше коэффициент модели, тем сильнее признак влияет на предсказание.\n",
        "\n",
        "Посмотрим на разброс признаков: некоторые принимают значения порядка $10-100$, а некоторые --- около $0$:\n"
      ]
    },
    {
      "cell_type": "markdown",
      "metadata": {
        "id": "mYY6uFPExUIB"
      },
      "source": [
        "\n",
        "\n",
        "```\n",
        "data[numeric_feature_columns].describe()\n",
        "```\n",
        "\n"
      ]
    },
    {
      "cell_type": "markdown",
      "metadata": {
        "id": "BWpbdspJxZoX"
      },
      "source": [
        "\n",
        "Хорошим тоном является нормализация всех признаков. Например, можно привести значения каждого столбца к шкале  [0..1]  с помощью следующего преобразования:\n",
        "\n",
        "$$\n",
        "\\frac{x - min(x)}{max(x)}\n",
        "$$\n",
        "\n",
        "Сделать это можно как ручками, так и с помощью питона:"
      ]
    },
    {
      "cell_type": "markdown",
      "metadata": {
        "id": "5hyI1tmLxnN7"
      },
      "source": [
        "\n",
        "\n",
        "```\n",
        "from sklearn.preprocessing import MinMaxScaler\n",
        "\n",
        "# Создаём инструмент для нормализации признаков.\n",
        "min_max_scaler = MinMaxScaler()\n",
        "# Преобразуем признаки (на выходе будет np.ndarray).\n",
        "X = min_max_scaler.fit_transform(X)\n",
        "# Преобразуем np.ndarray обратно в pandas таблицу для удобства.\n",
        "X = pd.DataFrame(X, columns=X.columns)\n",
        "\n",
        "X.head()\n",
        "```\n",
        "\n"
      ]
    },
    {
      "cell_type": "markdown",
      "metadata": {
        "id": "pJyxgxErLqbg"
      },
      "source": [
        "##   3. Обучить модель на обучающей выборке"
      ]
    },
    {
      "cell_type": "markdown",
      "metadata": {
        "id": "0FvCNInJLqbg"
      },
      "source": [
        "**Шаг 3.1. Выбираем метод, который будем использовать**\n",
        "\n",
        "Проще всего начать с простых методов. \n",
        "Мы воспользуемся двумя методами для построения моделей и сравним их между собой:\n",
        "* Линейная регрессия *(linear regression)*\n",
        "* Случайный лес решающих деревьев *(Random Forest)*\n",
        "\n",
        "На выбор метода для построения модели влияет набор признаков, размер выборки, интуиция про то, какая связь между входными переменными и целевой. Но часто решение принимается исходя из того, какая модель сработала лучше."
      ]
    },
    {
      "cell_type": "markdown",
      "metadata": {
        "id": "m84QeANALqbi"
      },
      "source": [
        "Для корректной работы с методами построения моделей в python требуется загрузить специальную библиотеку\n",
        "\n",
        "**sklearn**\n",
        "\n",
        " программную библиотеку на языке python для для машинного обучения и анализа данных.\n",
        "\n",
        "Мы импортируем два модуля из этой библиотеки:\n",
        " * *linear_model* - тут находятся все линейные модели\n",
        " * *ensemble* - тут находятся модели на основе ансамблей"
      ]
    },
    {
      "cell_type": "markdown",
      "metadata": {
        "id": "djoSvW81kpRc"
      },
      "source": [
        "\n",
        "\n",
        "```\n",
        "from sklearn import linear_model, ensemble\n",
        "```\n",
        "\n"
      ]
    },
    {
      "cell_type": "markdown",
      "metadata": {
        "id": "B86kcKX_Lqbp"
      },
      "source": [
        "Прежде чем начать делать ремонт, нужно подготовить инструменты для работы. Аналогично в нашем случае, прежде чем обучать модели, нужно создать их прототипы.  "
      ]
    },
    {
      "cell_type": "markdown",
      "metadata": {
        "id": "sKd1aO2zksIP"
      },
      "source": [
        "\n",
        "\n",
        "```\n",
        "linear_regression_model = linear_model.LinearRegression()   # создаем прототип\n",
        "linear_regression_model \n",
        "```\n",
        "\n"
      ]
    },
    {
      "cell_type": "markdown",
      "metadata": {
        "id": "ZLB8upcSo3TN"
      },
      "source": [
        "Теперь случайный лес (RandomForest)"
      ]
    },
    {
      "cell_type": "markdown",
      "metadata": {
        "id": "qVb3-aU0k1K-"
      },
      "source": [
        "\n",
        "\n",
        "```\n",
        "random_forest_model = ensemble.RandomForestRegressor(n_estimators=100)\n",
        "random_forest_model\n",
        "```\n",
        "\n"
      ]
    },
    {
      "cell_type": "markdown",
      "metadata": {
        "id": "81hsVtx4Lqb1"
      },
      "source": [
        "У модели на основе случайного леса больше параметров. Рассмотрим наиболее важные:\n",
        "* параметр *n_estimators* определяет, сколько деревьев в лесу,\n",
        "* в параметре *max_depth* устанавливается, какая максимальная **глубина** у дерева,\n"
      ]
    },
    {
      "cell_type": "markdown",
      "metadata": {
        "id": "qav2FPS13P1r"
      },
      "source": [
        "![](https://drive.google.com/uc?id=1L2iJhzpvWPDiekoBj7fEDFUQKKxTn1GI)"
      ]
    },
    {
      "cell_type": "markdown",
      "metadata": {
        "id": "9eBFOSTO3P5L"
      },
      "source": [
        "![](https://drive.google.com/uc?id=1nRtxWOKLKh1BzY_aYHHEZE6IWp4nQLSo)"
      ]
    },
    {
      "cell_type": "markdown",
      "metadata": {
        "id": "iOd3HMOo4WCc"
      },
      "source": [
        "Вот пример, чтобы было понятно:"
      ]
    },
    {
      "cell_type": "markdown",
      "metadata": {
        "id": "V-9xhSzT3ux7"
      },
      "source": [
        "![](https://drive.google.com/uc?id=1f2llPKcVmoh3bPqecDxlSkbQsJUphjEU)"
      ]
    },
    {
      "cell_type": "markdown",
      "metadata": {
        "id": "DLKkMRIkLqb1"
      },
      "source": [
        "Так как модель на основе случайного решающего леса сложнее (может выучить не только линейные зависимости), такая модель обычно обучается медленнее.\n",
        "Кроме этого, на время обучения влияют значения параметров модели. Например, чем больше деревьев в лесе - тем дольше модель будет учиться."
      ]
    },
    {
      "cell_type": "markdown",
      "metadata": {
        "id": "TM7UfC6uLqb2"
      },
      "source": [
        "**Шаг 3.2. Обучить модель**\n",
        "\n",
        "Теперь, когда мы создали прототипы обеих моделей, можем их обучить с помощью обучающей выборки. \n",
        "\n",
        "Для этого вызываем метод **fit()** у каждой модели и передаем ему на вход два аргумента: \n",
        "таблицу входных признаков и столбец значений целевой переменной - (training_points, training_values)"
      ]
    },
    {
      "cell_type": "markdown",
      "metadata": {
        "id": "eO0xZMB_lM_U"
      },
      "source": [
        "\n",
        "\n",
        "```\n",
        "training_values\n",
        "```\n",
        "\n"
      ]
    },
    {
      "cell_type": "markdown",
      "metadata": {
        "id": "rpXkEzEilTAw"
      },
      "source": [
        "\n",
        "```\n",
        "linear_regression_model.fit(training_points, training_values)\n",
        "```\n",
        "\n"
      ]
    },
    {
      "cell_type": "markdown",
      "metadata": {
        "id": "q4N8tiZuLqb5"
      },
      "source": [
        "Делаем тоже самое для модели решающего леса."
      ]
    },
    {
      "cell_type": "markdown",
      "metadata": {
        "id": "eP9BFqcUlZxr"
      },
      "source": [
        "\n",
        "\n",
        "```\n",
        "random_forest_model.fit(training_points, training_values)\n",
        "```\n",
        "\n"
      ]
    },
    {
      "cell_type": "markdown",
      "metadata": {
        "id": "HXRx5n4LuKjm"
      },
      "source": [
        "> *Что вообще произошло? Что-то важное?*\n",
        "\n",
        "\n"
      ]
    },
    {
      "cell_type": "markdown",
      "metadata": {
        "id": "5I-PeZaPuWem"
      },
      "source": [
        "Линейная регрессия, подбор коэффициентов a, b"
      ]
    },
    {
      "cell_type": "markdown",
      "metadata": {
        "id": "o3Qa2cVFuSR-"
      },
      "source": [
        "![img.jpg](https://drive.google.com/uc?id=14ECdA7p9MEs6oWiO-3xP5sj7zsiewX5q)"
      ]
    },
    {
      "cell_type": "markdown",
      "metadata": {
        "id": "dq6wvkG2uiPx"
      },
      "source": [
        "> *Но у признаков то больше, не только признаки \"x\" и \"y\"!*"
      ]
    },
    {
      "cell_type": "markdown",
      "metadata": {
        "id": "aA8U80L_ucNC"
      },
      "source": [
        "![img123.jpg](https://drive.google.com/uc?id=14wjVlYFDEq4-AxISk9_1bfUZYk6T41vK)"
      ]
    },
    {
      "cell_type": "markdown",
      "metadata": {
        "id": "AYGq5awEucXK"
      },
      "source": [
        "> *А как подбираются все эти w?*"
      ]
    },
    {
      "cell_type": "markdown",
      "metadata": {
        "id": "dHcNdFw6ucd5"
      },
      "source": [
        "![](https://drive.google.com/uc?id=134mgWuEVOZIMtAXFfE6Dv5zpx3LnO45y)"
      ]
    },
    {
      "cell_type": "markdown",
      "metadata": {
        "id": "vNdd15xULqb7"
      },
      "source": [
        "* Для двух разных моделей в sklearn методы для обучения модели не отличаются.\n",
        "* Мы получили две обученные модели. \n",
        "* Теперь необходимо провалидировать модели на новых тестовых данных. "
      ]
    },
    {
      "cell_type": "markdown",
      "metadata": {
        "id": "y8BB5t5DLqb8"
      },
      "source": [
        "## 4. Загрузить и предобработать данные для тестирования"
      ]
    },
    {
      "cell_type": "markdown",
      "metadata": {
        "id": "V70UJoRnLqb9"
      },
      "source": [
        "**Шаг 4.1. Загрузим и проанализируем тестовые данные.**\n",
        "\n",
        "Для данных в формате xlsx (Excel) будем использовать специальную функцию\n",
        "из библиотеки pandas для загрузки таких данных **read_excel**.\n",
        "\n",
        "В функции передаем один атрибут: название файла, в котором находится таблица с данными."
      ]
    },
    {
      "cell_type": "markdown",
      "metadata": {
        "id": "7nFFhs02mNSX"
      },
      "source": [
        "\n",
        "\n",
        "```\n",
        "test_data = pd.read_excel('Название_файла_с_таблицей.xlsx')\n",
        "```\n",
        "\n"
      ]
    },
    {
      "cell_type": "markdown",
      "metadata": {
        "id": "YJYWPU3vmT9A"
      },
      "source": [
        "\n",
        "\n",
        "```\n",
        "test_data.head()\n",
        "```\n",
        "\n"
      ]
    },
    {
      "cell_type": "markdown",
      "metadata": {
        "id": "rNOKBtaVLqcF"
      },
      "source": [
        "Посмотрим на размеры загруженной таблицы, так как мы видели только 5 строк\n",
        "\n",
        "Для этого вызываем поле **shape** у нашей переменной *test_data*. Поле вызывается также как метод, но в конце скобки не ставятся (!), так как для поля не предусмотрена передача аргументов.  "
      ]
    },
    {
      "cell_type": "markdown",
      "metadata": {
        "id": "McBhsVNzmd5R"
      },
      "source": [
        "\n",
        "\n",
        "```\n",
        "test_data.shape\n",
        "```\n",
        "\n"
      ]
    },
    {
      "cell_type": "markdown",
      "metadata": {
        "id": "Sic-zsmxLqcI"
      },
      "source": [
        "*Что означает первое и второе число?* \n",
        "Таблица содержит a строк (объектов) и b столбцов (признаков), включая выходной (целевой) признак. Также как в учебных данных до обучения.\n",
        "\n",
        "Таблицу проверили, теперь можно приступать к обработке данных\n",
        "Действуем аналогично тому, как делали с данными для обучения"
      ]
    },
    {
      "cell_type": "markdown",
      "metadata": {
        "id": "cirwOcb7LqcJ"
      },
      "source": [
        "Проверим, есть ли в данных пропуски. Для того чтобы это сделать, нужно обратиться вызвать у переменной *test_data* метод **info()**."
      ]
    },
    {
      "cell_type": "markdown",
      "metadata": {
        "id": "my9EcL_tna03"
      },
      "source": [
        "\n",
        "\n",
        "```\n",
        "test_data.info()\n",
        "```\n",
        "\n"
      ]
    },
    {
      "cell_type": "markdown",
      "metadata": {
        "id": "AN3MKGbcLqcL"
      },
      "source": [
        "Цифры в каждой строчке обозначают количество заполненных (*non-null*) значений. Если эти цифры в каждой строчке совпадают с числом строк, то в данных нет пропусков."
      ]
    },
    {
      "cell_type": "markdown",
      "metadata": {
        "id": "2cUtLvm8LqcM"
      },
      "source": [
        "**Шаг 4.2. Отделяем целевую переменную**"
      ]
    },
    {
      "cell_type": "markdown",
      "metadata": {
        "id": "kjOH6aKMnlk6"
      },
      "source": [
        "\n",
        "\n",
        "```\n",
        "test_values = test_data[target_variable_name]\n",
        "test_points = test_data.drop(target_variable_name, axis=1)\n",
        "```\n",
        "\n"
      ]
    },
    {
      "cell_type": "markdown",
      "metadata": {
        "id": "y3Cwim1CLqcV"
      },
      "source": [
        "И проверяем результат записанный в test_points"
      ]
    },
    {
      "cell_type": "markdown",
      "metadata": {
        "id": "rzOJ0RlYnr4k"
      },
      "source": [
        "\n",
        "\n",
        "```\n",
        "test_points.head()\n",
        "test_points.shape\n",
        "```\n",
        "\n"
      ]
    },
    {
      "cell_type": "markdown",
      "metadata": {
        "id": "5QFgDcQXLqcf"
      },
      "source": [
        "# 5. Провалидировать модель на тестовой выборке"
      ]
    },
    {
      "cell_type": "markdown",
      "metadata": {
        "id": "LL7Pb7IlLqcg"
      },
      "source": [
        "**Шаг 5.1. Сравнение моделей.**\n",
        "\n",
        "Теперь мы готовы измерить качество, сразу для двух моделей. А затем и сравнить."
      ]
    },
    {
      "cell_type": "markdown",
      "metadata": {
        "id": "NDTfUzZdLqch"
      },
      "source": [
        "*1. Какая модель лучше?*\n",
        "\n",
        "Получим прогнозы целевой переменной на тестовых данных для модели линейной регрессии м модели случайного леса. \n",
        "\n",
        "Для этого вызовем у каждой модели метод **predict()**, в качестве аргумента передадим *test_points*."
      ]
    },
    {
      "cell_type": "markdown",
      "metadata": {
        "id": "DK3TytoFLqch"
      },
      "source": [
        "\n",
        "\n",
        "```\n",
        "test_predictions_linear_regression=linear_regression_model.predict(test_points)\n",
        "test_predictions_linear_regression\n",
        "```\n",
        "\n"
      ]
    },
    {
      "cell_type": "markdown",
      "metadata": {
        "id": "G9MUBWKnpQMT"
      },
      "source": [
        "\n",
        "\n",
        "```\n",
        "test_predictions_random_forest = random_forest_model.predict(test_points)\n",
        "test_predictions_random_forest\n",
        "```\n",
        "\n"
      ]
    },
    {
      "cell_type": "markdown",
      "metadata": {
        "id": "kxRo4sq1Lqcm"
      },
      "source": [
        "Качество регрессионных моделей оценим двумя способами: \n",
        "1. Сравним визуально прогнозы с настоящими ценами (тестовые с предсказанием)\n",
        "2. Сравним метрики качества"
      ]
    },
    {
      "cell_type": "markdown",
      "metadata": {
        "id": "3EqEpVOALqcn"
      },
      "source": [
        "Визуализируем прогноз линейной модели и настоящие значения из тестовой выборки.\n"
      ]
    },
    {
      "cell_type": "code",
      "metadata": {
        "id": "fDTQwaoCLqco"
      },
      "source": [
        "%matplotlib inline "
      ],
      "execution_count": null,
      "outputs": []
    },
    {
      "cell_type": "markdown",
      "metadata": {
        "id": "s3VURzTUqnuK"
      },
      "source": [
        "\n",
        "\n",
        "```\n",
        "plt.figure(figsize=(7, 7))\n",
        "plt.scatter(test_values, test_predictions_linear) # рисуем точки, соответствущие парам настоящее значение - прогноз\n",
        "plt.plot([0, 6 * 10**6], [0, 6 * 10**6]) # рисуем прямую, на которой предсказания и настоящие значения совпадают\n",
        "plt.xlabel('Настоящее значение', fontsize=20)\n",
        "plt.ylabel('Предсказанное значение', fontsize=20);\n",
        "```\n",
        "\n"
      ]
    },
    {
      "cell_type": "markdown",
      "metadata": {
        "id": "KWrjJu0CLqcr"
      },
      "source": [
        "Визуализируем прогноз модели случайного леса и настоящие значения из тестовой выборки"
      ]
    },
    {
      "cell_type": "markdown",
      "metadata": {
        "id": "SiUYI8RPqtS6"
      },
      "source": [
        "\n",
        "\n",
        "```\n",
        "plt.figure(figsize=(7, 7))\n",
        "plt.scatter(test_values, test_predictions_random_forest)\n",
        "plt.plot([0, 6 * 10**6], [0, 6 * 10**6])\n",
        "plt.xlabel('Настоящее значение', fontsize=20)\n",
        "plt.ylabel('Предсказанное значение', fontsize=20);\n",
        "```\n",
        "\n"
      ]
    },
    {
      "cell_type": "markdown",
      "metadata": {
        "id": "YqBK60MVLqct"
      },
      "source": [
        "Проверим модели с помощью **метрик качества регрессионной модели**"
      ]
    },
    {
      "cell_type": "markdown",
      "metadata": {
        "id": "Swg445QcLqct"
      },
      "source": [
        "Для корректного подсчета метрик качества модели в python требуется загрузить их из библиотеки **sklearn**. \n",
        "\n",
        "Мы используем две метрики качества:\n",
        " * *mean_absolute_error* - средняя абсолютная ошибка $|y_i - \\hat{y}_i|$\n",
        " * *mean_squared_error* - средняя квадратичная ошибка $(y_i - \\hat{y}_i)^2$"
      ]
    },
    {
      "cell_type": "markdown",
      "metadata": {
        "id": "gPrP7Gcjqyu_"
      },
      "source": [
        "\n",
        "```\n",
        "from sklearn.metrics import mean_absolute_error, mean_squared_error\n",
        "```\n",
        "\n"
      ]
    },
    {
      "cell_type": "markdown",
      "metadata": {
        "id": "gmkMZN2FLqcw"
      },
      "source": [
        "Подсчитаем ошибки для линейной модели.\n",
        "\n",
        "Для этого вызовем методы **mean_absolute_error()** и **mean_squared_error()**. На вход им передается столбец настоящих значений *test_values* и столбец значений, предсказанных моделью линейной регрессии *test_predictions_linear*."
      ]
    },
    {
      "cell_type": "markdown",
      "metadata": {
        "id": "BA6EeYb5q6gw"
      },
      "source": [
        "\n",
        "\n",
        "```\n",
        "mean_absolute_error_linear_model = mean_absolute_error(test_values, test_predictions_linear) \n",
        "mean_squared_error_linear_model =  mean_squared_error(test_values, test_predictions_linear)\n",
        "```\n",
        "\n"
      ]
    },
    {
      "cell_type": "markdown",
      "metadata": {
        "id": "R84sQt9LLqc0"
      },
      "source": [
        "Подсчитаем ошибки для модели случайного леса.\n",
        "\n",
        "Для этого вызовем методы **mean_absolute_error()** и **mean_squared_error()**. На вход им передается столбец настоящих значений *test_values* и столбец значений, предсказанных моделью линейной регрессии *test_predictions_random_forest*."
      ]
    },
    {
      "cell_type": "markdown",
      "metadata": {
        "id": "IpO-9oMAq9s4"
      },
      "source": [
        "\n",
        "\n",
        "```\n",
        "mean_absolute_error_random_forest_model = mean_absolute_error(test_values, test_predictions_random_forest)\n",
        "mean_squared_error_random_forest_model = mean_squared_error(test_values, test_predictions_random_forest)\n",
        "```\n",
        "\n"
      ]
    },
    {
      "cell_type": "markdown",
      "metadata": {
        "id": "RO5MZwO9rVKL"
      },
      "source": [
        "Выведем полученные метрики\n",
        "\n",
        "\n",
        "```\n",
        "print(\"MAE: {0:7.2f}, MSE: {1:7.2f} для модели линейной регрессии\".format(\n",
        "        mean_absolute_error_linear_model, \n",
        "        np.sqrt(mean_squared_error_linear_model)))\n",
        "\n",
        "print(\"MAE: {0:7.2f}, MSE: {1:7.2f} для модели случайного леса\".format(\n",
        "       mean_absolute_error_random_forest_model, \n",
        "       mean_squared_error_random_forest_model))\n",
        "```\n",
        "\n"
      ]
    },
    {
      "cell_type": "markdown",
      "metadata": {
        "id": "84YcLjzw0Wy4"
      },
      "source": [
        "# 6. Выявление важных признаков"
      ]
    },
    {
      "cell_type": "markdown",
      "metadata": {
        "id": "7kYhqu9ELqdM"
      },
      "source": [
        "**Доп.* Какие признаки самые важные**\n",
        "\n",
        "Ручной перебор признаков невозможен, если их тысячи, кроме того, часто даже эксперты не могут сказать, использование каких признаков в модели даст прирост качества.\n",
        "Кроме ручного перебора всех признаков и их визуального анализа, можно использовать оценку значимости признаков с помощью обученных моделей. "
      ]
    },
    {
      "cell_type": "markdown",
      "metadata": {
        "id": "esjxeKgNzTl-"
      },
      "source": [
        "Получить оценку важности признаков можно вызвав поле feature_importances_ у модели random_forest_model\n",
        "\n",
        "\n",
        "\n",
        "```\n",
        "random_forest_model.feature_importances_\n",
        "```\n",
        "\n"
      ]
    },
    {
      "cell_type": "markdown",
      "metadata": {
        "id": "fb-3CEuxLqdR"
      },
      "source": [
        "Набор цифр, которые мы получили выше, соответствует признакам, на которых мы обучали модель. Посмотреть эти признаки можно, вызвав у *training_points* метод **keys()**"
      ]
    },
    {
      "cell_type": "markdown",
      "metadata": {
        "id": "GvRaoNS4zdPn"
      },
      "source": [
        "\n",
        "\n",
        "```\n",
        "training_points.keys()\n",
        "```\n",
        "\n"
      ]
    },
    {
      "cell_type": "markdown",
      "metadata": {
        "id": "zyK1fI42LqdT"
      },
      "source": [
        "Представим полученные результаты в более удобном табличном виде. Создадим пустую таблицу *feature_importance* с двумя колонками \"Название признака\", \"Важность признака\". Для этого воспользуемся функцией **DataFrame()** из библиотеки pandas и передадим ей в качестве аргумента   \n",
        "*columns = [\"Название признака\", \"Важность признака\"]*"
      ]
    },
    {
      "cell_type": "markdown",
      "metadata": {
        "id": "bbsXo9ZUziH_"
      },
      "source": [
        "\n",
        "\n",
        "```\n",
        "feature_importance = pd.DataFrame(columns = ['Название признака', 'Важность признака'])\n",
        "```\n",
        "\n"
      ]
    },
    {
      "cell_type": "markdown",
      "metadata": {
        "id": "2L5zngrOLqdX"
      },
      "source": [
        "Заполним соответствующие колонки значениями, которые мы получили выше. "
      ]
    },
    {
      "cell_type": "markdown",
      "metadata": {
        "id": "ZtnIbxz2zlw8"
      },
      "source": [
        "```\n",
        "feature_importance['Название признака'] = training_points.keys()\n",
        "feature_importance['Важность признака'] = random_forest_model.feature_importances_\n",
        "```\n",
        "\n"
      ]
    },
    {
      "cell_type": "markdown",
      "metadata": {
        "id": "RvmoaVuVzuI-"
      },
      "source": [
        "выведем полученную таблицу\n",
        "\n",
        "\n",
        "```\n",
        "feature_importance\n",
        "```\n"
      ]
    },
    {
      "cell_type": "markdown",
      "metadata": {
        "id": "HCqhWnNtLqdb"
      },
      "source": [
        "Мы можем отсортировать значения по важности, вызвав у *feature_importance* метод **sort_values()**.\n",
        "\n",
        "Обратите внимание, что в данном случае мы передаем два аргумента:\n",
        "\n",
        "1. by='Важность признака' - название столбца, по которому мы сортируем\n",
        "2. ascending=False - означает, что мы сортируем по убиыванию, а в случае ascending=True сортировка будет по возростанию"
      ]
    },
    {
      "cell_type": "markdown",
      "metadata": {
        "id": "CJFo7ouez3CO"
      },
      "source": [
        "\n",
        "```\n",
        "feature_importance.sort_values(by='Важность признака', ascending=False)\n",
        "```\n",
        "\n"
      ]
    },
    {
      "cell_type": "markdown",
      "metadata": {
        "id": "3WREujt8Lqc5"
      },
      "source": [
        "# Обзор результатов\n",
        "\n",
        "В этом ноутбуке мы научились \n",
        "0. Загружать библиотеки, необходимые для работы.\n",
        "1. Загружать данные для обучения, представленные в формате excel таблицы.\n",
        "2. Проводить предварительную обработку данных перед построением и использованием модели машинного обучения: смотреть на части таблицы, понимать, какой размер у выборки данных, выделять отдельные столбцы таблицы в новые таблицы.\n",
        "3. Обучать модель линейной регрессии и решающего леса на обучающей выборке.\n",
        "4. Валидировать модель на тестовой выборке с помощью кросс-плота для модели и реальных значений, стандартных ошибок модели."
      ]
    }
  ]
}